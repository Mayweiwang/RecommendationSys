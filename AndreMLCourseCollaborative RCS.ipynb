{
 "metadata": {
  "name": "",
  "signature": "sha256:1cfc490c4d274681e4cd095e7a46e706c722d4516e856a412e20a9bf41a3feb7"
 },
 "nbformat": 3,
 "nbformat_minor": 0,
 "worksheets": [
  {
   "cells": [
    {
     "cell_type": "code",
     "collapsed": false,
     "input": [
      "import numpy as np\n",
      "from scipy.optimize import fmin_cg"
     ],
     "language": "python",
     "metadata": {},
     "outputs": [],
     "prompt_number": 1
    },
    {
     "cell_type": "code",
     "collapsed": false,
     "input": [
      "def cost(p, Y, R, alpha):\n",
      "  \"\"\"\n",
      "  Calculates collaborative filtering cost function.\n",
      "  Arguments\n",
      "  ----------\n",
      "  P: (m+u) x n feature and weight matrix\n",
      "  Y: m x u rating matrix\n",
      "  R: m x u; i movies have been rated by j boolean matrix\n",
      "  alpha: regularization parameter controls model complexity\n",
      "  Return\n",
      "  ----------\n",
      "  Value of cost function\n",
      "  \"\"\"\n",
      "  m, u = Y.shape\n",
      "  n = int(p.size / float(m + u))\n",
      "  X = np.resize(p[:m * n], (m, n))\n",
      "  Theta = np.resize(p[m * n:], (u, n))\n",
      "\n",
      "  J = 1 / 2. * np.sum(np.multiply(np.power(np.dot(X, Theta.T) - Y, 2), R))\n",
      "  J += alpha / 2. * (np.sum(np.power(Theta, 2)) + np.sum(np.power(X, 2)))\n",
      "\n",
      "  return J"
     ],
     "language": "python",
     "metadata": {},
     "outputs": [],
     "prompt_number": 2
    },
    {
     "cell_type": "code",
     "collapsed": false,
     "input": [
      "def grad(p, Y, R, alpha):\n",
      "  \"\"\"\n",
      "  Calculates parameter gradients of collaborative filtering cost function.\n",
      "  The parameters are m feature and u weight vectors.\n",
      "  Arguments\n",
      "  ----------\n",
      "  P: (m+u)xn feature and weight matrix\n",
      "  Y: mxu rating matrix\n",
      "  R: mxu i has been rated by j boolean matrix\n",
      "  alpha: regularization parameter controls model complexity\n",
      "  Return\n",
      "  ----------\n",
      "  Vector of gradients ((m+u)xn feature and weight matrix)\n",
      "  \"\"\"\n",
      "  m, u = Y.shape\n",
      "  n = p.size / (m + u)\n",
      "  X = np.resize(p[:m * n], (m, n))\n",
      "  Theta = np.resize(p[m * n:], (u, n))\n",
      "\n",
      "  X_grad = np.dot(np.multiply((np.dot(X, Theta.T) - Y), R), Theta) + alpha * X\n",
      "  Theta_grad = np.dot(np.multiply((np.dot(X, Theta.T) - Y).T, R.T), X) + alpha * Theta\n",
      "\n",
      "  return np.ravel(np.vstack((X_grad, Theta_grad)))"
     ],
     "language": "python",
     "metadata": {},
     "outputs": [],
     "prompt_number": 3
    },
    {
     "cell_type": "code",
     "collapsed": false,
     "input": [
      "def fit(Y, R, alpha, n):\n",
      "  \"\"\"\n",
      "  Fits the parameters of the collaborative filtering model\n",
      "  Arguments\n",
      "  ----------\n",
      "  Y: mxu rating matrix\n",
      "  R: mxu i has been rated by j boolean matrix\n",
      "  n: Number of features.\n",
      "  alpha: regularization parameter controls model complexity.\n",
      "  Return\n",
      "  ----------\n",
      "  (X,Theta)\n",
      "  X: mxn feature matrix\n",
      "  Theta: uxn weight matrix\n",
      "  \"\"\"\n",
      "  m, u = Y.shape\n",
      "  p = np.random.random((m + u) * n)\n",
      "\n",
      "  # minimize cost function\n",
      "  costf = lambda x: cost(x, Y, R, alpha)\n",
      "  gradf = lambda x: grad(x, Y, R, alpha)\n",
      "  p = fmin_cg(costf, p, fprime=gradf, maxiter=100, disp=False)\n",
      "\n",
      "  # unroll parameters\n",
      "  X = np.resize(p[:m * n], (m, n))\n",
      "  Theta = np.resize(p[m * n:], (u, n))\n",
      "\n",
      "  return (X, Theta)"
     ],
     "language": "python",
     "metadata": {},
     "outputs": [],
     "prompt_number": 4
    },
    {
     "cell_type": "code",
     "collapsed": false,
     "input": [
      "def predict(X, y, r, alpha):\n",
      "  \"\"\"\n",
      "  Predicts ratings for a new user.\n",
      "  Uses ridge regression to fit the parameters.\n",
      "  Arguments\n",
      "  ----------\n",
      "  X: mxn feature matrix\n",
      "  y: m rating vector\n",
      "  r: rated boolean vector\n",
      "  alpha: regularization parameter controls model complexity.\n",
      "  Return\n",
      "  ----------\n",
      "  Vector of ratings\n",
      "  \"\"\"\n",
      "  aX = X\n",
      "  X = X[r, :]\n",
      "  y = np.array([y[r]]).T\n",
      "  G = alpha / 2. * np.eye(X.shape[1])\n",
      "  Theta = np.dot(np.linalg.inv(np.dot(X.T, X) + np.dot(G.T, G)), np.dot(X.T, y))\n",
      "  return np.dot(aX, Theta)"
     ],
     "language": "python",
     "metadata": {},
     "outputs": [],
     "prompt_number": 5
    },
    {
     "cell_type": "code",
     "collapsed": false,
     "input": [
      "class CF(object):\n",
      "  \"\"\"\n",
      "  Regression based Collaborative Filtering\n",
      "  \"\"\"\n",
      "  def __init__(self, alpha=10, n=10):\n",
      "    \"\"\"\n",
      "    Arguments\n",
      "    ----------\n",
      "    alpha: regularization parameter controls model complexity.\n",
      "    n: number of features\n",
      "    \"\"\"\n",
      "    self.n = n\n",
      "    self.alpha = alpha\n",
      "\n",
      "  def fit(self, Y, R):\n",
      "    \"\"\"\n",
      "    Fits model to rating matrix Y\n",
      "    Uses ridge regression to fit the parameters of new user.\n",
      "    Arguments\n",
      "    ----------\n",
      "    Y: mxu rating matrix\n",
      "    R: mxu i has been rated by j boolean matrix\n",
      "    \"\"\"\n",
      "    # Mean normalize ratings using \"add one\" laplace smoothing.\n",
      "    # This is accomplished by using a dummy user that has rated all\n",
      "    # movies with the mean global rating.\n",
      "    mean = np.mean(np.divide(np.sum(np.multiply(Y, R), 1), np.sum(R, 1)))\n",
      "    self.means = np.array([np.divide(np.sum(np.multiply(Y, R), 1) + mean,\n",
      "                          np.sum(R, 1) + 1)]).T\n",
      "\n",
      "    Y = Y - self.means\n",
      "\n",
      "    # Save model parameters\n",
      "    self.X, self.Theta = fit(Y, R, self.alpha, self.n)\n",
      "    return (self.X, self.Theta)\n",
      "\n",
      "  def predict(self, y, r):\n",
      "    \"\"\"\n",
      "    Fits model to rating matrix Y\n",
      "    Uses ridge regression to fit the parameters of new user.\n",
      "    Arguments\n",
      "    ----------\n",
      "    y: vector of ratings from new user\n",
      "    r: i has been rated by new user boolean vector\n",
      "    \"\"\"\n",
      "    # Predict ratings for new user\n",
      "    ratings = predict(self.X, y, r, self.alpha)\n",
      "\n",
      "    # Add means to predictions\n",
      "    return ratings + self.means"
     ],
     "language": "python",
     "metadata": {},
     "outputs": [],
     "prompt_number": 6
    },
    {
     "cell_type": "code",
     "collapsed": false,
     "input": [
      "from scipy.io import loadmat\n",
      "  # Model parameters\n",
      "alpha = 10\n",
      "n = 10\n",
      "\n",
      "  "
     ],
     "language": "python",
     "metadata": {},
     "outputs": [],
     "prompt_number": 8
    },
    {
     "cell_type": "code",
     "collapsed": false,
     "input": [
      "# Load existing ratings and movies\n",
      "D = loadmat('ex8_movies.mat')\n",
      "  "
     ],
     "language": "python",
     "metadata": {},
     "outputs": [],
     "prompt_number": 22
    },
    {
     "cell_type": "code",
     "collapsed": false,
     "input": [
      "type(D)"
     ],
     "language": "python",
     "metadata": {},
     "outputs": [
      {
       "metadata": {},
       "output_type": "pyout",
       "prompt_number": 23,
       "text": [
        "dict"
       ]
      }
     ],
     "prompt_number": 23
    },
    {
     "cell_type": "code",
     "collapsed": false,
     "input": [
      "Y, R = (D['Y'], D['R'])\n",
      "f = open('movie_ids.txt', 'rb')\n"
     ],
     "language": "python",
     "metadata": {},
     "outputs": [],
     "prompt_number": 24
    },
    {
     "cell_type": "code",
     "collapsed": false,
     "input": [
      "movies = np.array([str.strip(l.partition(' ')[-1]) for l in f])\n",
      "print movies"
     ],
     "language": "python",
     "metadata": {},
     "outputs": [
      {
       "output_type": "stream",
       "stream": "stdout",
       "text": [
        "['Toy Story (1995)' 'GoldenEye (1995)' 'Four Rooms (1995)' ...,\n",
        " 'Sliding Doors (1998)' 'You So Crazy (1994)'\n",
        " 'Scream of Stone (Schrei aus Stein) (1991)']\n"
       ]
      }
     ],
     "prompt_number": 25
    },
    {
     "cell_type": "code",
     "collapsed": false,
     "input": [
      "# New user ratings\n",
      "y = np.zeros(Y.shape[0])\n",
      "y[0] = 4\n",
      "y[96] = 2\n",
      "y[6] = 3\n",
      "y[11] = 5\n",
      "y[53] = 4\n",
      "y[63] = 5\n",
      "y[65] = 3\n",
      "y[68] = 5\n",
      "y[182] = 4\n",
      "y[225] = 5\n",
      "y[354] = 5\n",
      "r = y != 0\n",
      "\n"
     ],
     "language": "python",
     "metadata": {},
     "outputs": [],
     "prompt_number": 15
    },
    {
     "cell_type": "code",
     "collapsed": false,
     "input": [
      "# Create model\n",
      "cf = CF(alpha, n)\n",
      "cf.fit(Y, R)\n",
      "\n"
     ],
     "language": "python",
     "metadata": {},
     "outputs": [
      {
       "metadata": {},
       "output_type": "pyout",
       "prompt_number": 18,
       "text": [
        "(array([[  8.84147986e-01,   1.73862669e-01,   2.32646888e-01, ...,\n",
        "          -3.52020164e-01,   1.60266248e-01,   1.00464559e+00],\n",
        "        [  3.87230911e-01,  -8.17406876e-02,   1.44411252e-01, ...,\n",
        "          -1.82572000e-01,   1.87719672e-01,   5.07158317e-01],\n",
        "        [ -4.51358111e-01,   3.38299062e-01,   4.76569809e-02, ...,\n",
        "           1.60638215e-01,   6.93694038e-01,   5.12005322e-01],\n",
        "        ..., \n",
        "        [  2.80880805e-02,   1.19394333e-02,   1.04756016e-03, ...,\n",
        "           5.82404474e-03,   5.55413292e-04,  -5.63394734e-03],\n",
        "        [ -2.34297770e-03,  -5.19251140e-03,   3.71262657e-04, ...,\n",
        "          -1.10480396e-02,  -9.53942587e-03,   1.98237659e-03],\n",
        "        [ -3.54460490e-03,   4.73858895e-03,  -3.90562234e-03, ...,\n",
        "           5.74110403e-04,  -1.55646242e-03,  -1.29087161e-03]]),\n",
        " array([[-0.41464557,  0.47049729, -0.24150504, ..., -0.54687249,\n",
        "         -0.46043957,  0.36616486],\n",
        "        [-0.02473494, -0.11486446, -0.16181092, ...,  0.3194103 ,\n",
        "         -0.12773852,  0.02756748],\n",
        "        [ 0.14531683,  0.10146921, -0.21223895, ..., -0.31420955,\n",
        "         -0.02224496, -0.4721047 ],\n",
        "        ..., \n",
        "        [ 0.10100301,  0.08069233,  0.03819522, ..., -0.04402587,\n",
        "          0.02701207,  0.27659402],\n",
        "        [ 0.27163764,  0.01187613,  0.13360244, ...,  0.38217049,\n",
        "          0.19892042,  0.45837105],\n",
        "        [ 0.13412658, -0.70675959,  0.19234119, ..., -0.26319775,\n",
        "          0.28710309, -0.12350414]]))"
       ]
      }
     ],
     "prompt_number": 18
    },
    {
     "cell_type": "code",
     "collapsed": false,
     "input": [
      "# Predict movies for new user\n",
      "ratings = cf.predict(y, r)\n",
      "print 'Top recommendations for new user:'\n",
      "ranks, ids = zip(*sorted(zip(ratings, xrange(len(ratings))), reverse=True))\n",
      "for i in xrange(n):\n",
      "  print 'Predicting rating %.2f for movie %s' % (ranks[i], movies[ids[i]])"
     ],
     "language": "python",
     "metadata": {},
     "outputs": [
      {
       "output_type": "stream",
       "stream": "stdout",
       "text": [
        "Top recommendations for new user:\n",
        "Predicting rating 5.40 for movie Star Wars (1977)\n",
        "Predicting rating 5.34 for movie Raiders of the Lost Ark (1981)\n",
        "Predicting rating 5.26 for movie Titanic (1997)\n",
        "Predicting rating 5.24 for movie Empire Strikes Back, The (1980)\n",
        "Predicting rating 5.23 for movie Braveheart (1995)\n",
        "Predicting rating 5.17 for movie Return of the Jedi (1983)\n",
        "Predicting rating 5.12 for movie Shawshank Redemption, The (1994)\n",
        "Predicting rating 5.05 for movie Princess Bride, The (1987)\n",
        "Predicting rating 5.03 for movie Schindler's List (1993)\n",
        "Predicting rating 4.96 for movie Terminator 2: Judgment Day (1991)\n"
       ]
      }
     ],
     "prompt_number": 17
    },
    {
     "cell_type": "code",
     "collapsed": false,
     "input": [],
     "language": "python",
     "metadata": {},
     "outputs": []
    }
   ],
   "metadata": {}
  }
 ]
}