{
 "metadata": {
  "name": "",
  "signature": "sha256:0bca0374951ef19777dc687fbba5f5d9bbddaa463d9d0902b7873afeb32b01c7"
 },
 "nbformat": 3,
 "nbformat_minor": 0,
 "worksheets": [
  {
   "cells": [
    {
     "cell_type": "code",
     "collapsed": false,
     "input": [
      "import numpy as np\n",
      "import scipy as sp\n",
      "import pandas as pd\n",
      "import matplotlib.pyplot as plt\n",
      "\n",
      "from sklearn.tree import DecisionTreeClassifier\n",
      "from sklearn.feature_extraction.text import TfidfVectorizer\n",
      "\n",
      "from sklearn.cross_validation import cross_val_score"
     ],
     "language": "python",
     "metadata": {},
     "outputs": [],
     "prompt_number": 2
    },
    {
     "cell_type": "markdown",
     "metadata": {},
     "source": [
      "### * DictVectorizer*\u00a0implements what is called \"one-of-K\" or \u201cone-hot\u201d coding for categorical (aka nominal, discrete) features. Categorical features are \u201cattribute-value\u201d pairs where the value is restricted to a list of discrete of possibilities without ordering (e.g. topic identifiers, types of objects, tags, names...)."
     ]
    },
    {
     "cell_type": "code",
     "collapsed": false,
     "input": [
      "measurements = [\n",
      "     {'city': 'Dubai', 'temperature': 33.},\n",
      "     {'city': 'London', 'temperature': 12.},\n",
      "     {'city': 'San Fransisco', 'temperature': 18.},\n",
      "]"
     ],
     "language": "python",
     "metadata": {},
     "outputs": [],
     "prompt_number": 43
    },
    {
     "cell_type": "code",
     "collapsed": false,
     "input": [
      "from sklearn.feature_extraction import DictVectorizer\n",
      "vec = DictVectorizer()\n",
      "vec.fit_transform(measurements).toarray()\n",
      "vec.get_feature_names()"
     ],
     "language": "python",
     "metadata": {},
     "outputs": [
      {
       "metadata": {},
       "output_type": "pyout",
       "prompt_number": 45,
       "text": [
        "['city=Dubai', 'city=London', 'city=San Fransisco', 'temperature']"
       ]
      }
     ],
     "prompt_number": 45
    },
    {
     "cell_type": "code",
     "collapsed": false,
     "input": [
      "train = pd.read_csv(\"input/train.csv\")\n",
      "test = pd.read_csv(\"input/test.csv\")\n",
      "train = train[0: 10000] # there are 26729 records, but we only look at the first 10000\n",
      "train.shape\n",
      "train.columns\n",
      "train.head(1)"
     ],
     "language": "python",
     "metadata": {},
     "outputs": [
      {
       "html": [
        "<div style=\"max-height:1000px;max-width:1500px;overflow:auto;\">\n",
        "<table border=\"1\" class=\"dataframe\">\n",
        "  <thead>\n",
        "    <tr style=\"text-align: right;\">\n",
        "      <th></th>\n",
        "      <th>AnimalID</th>\n",
        "      <th>Name</th>\n",
        "      <th>DateTime</th>\n",
        "      <th>OutcomeType</th>\n",
        "      <th>OutcomeSubtype</th>\n",
        "      <th>AnimalType</th>\n",
        "      <th>SexuponOutcome</th>\n",
        "      <th>AgeuponOutcome</th>\n",
        "      <th>Breed</th>\n",
        "      <th>Color</th>\n",
        "    </tr>\n",
        "  </thead>\n",
        "  <tbody>\n",
        "    <tr>\n",
        "      <th>0</th>\n",
        "      <td> A671945</td>\n",
        "      <td> Hambone</td>\n",
        "      <td> 2014-02-12 18:22:00</td>\n",
        "      <td> Return_to_owner</td>\n",
        "      <td> NaN</td>\n",
        "      <td> Dog</td>\n",
        "      <td> Neutered Male</td>\n",
        "      <td> 1 year</td>\n",
        "      <td> Shetland Sheepdog Mix</td>\n",
        "      <td> Brown/White</td>\n",
        "    </tr>\n",
        "  </tbody>\n",
        "</table>\n",
        "</div>"
       ],
       "metadata": {},
       "output_type": "pyout",
       "prompt_number": 7,
       "text": [
        "  AnimalID     Name             DateTime      OutcomeType OutcomeSubtype  \\\n",
        "0  A671945  Hambone  2014-02-12 18:22:00  Return_to_owner            NaN   \n",
        "\n",
        "  AnimalType SexuponOutcome AgeuponOutcome                  Breed        Color  \n",
        "0        Dog  Neutered Male         1 year  Shetland Sheepdog Mix  Brown/White  "
       ]
      }
     ],
     "prompt_number": 7
    },
    {
     "cell_type": "code",
     "collapsed": false,
     "input": [
      "#in order to save time\n",
      "L1 = train.values[:,1] #name\n",
      "L2 = train.values[:,2] #datetime\n",
      "L3 = train.values[:,3] #outcometype\n",
      "L4 = train.values[:,4] #outcomesubtype\n",
      "L5 = train.values[:,5] #animaltype\n",
      "L6 = train.values[:,6] #sex\n",
      "L7 = train.values[:,7] #age\n",
      "L8 = train.values[:,8] #breed\n",
      "L9 = train.values[:,9] #color"
     ],
     "language": "python",
     "metadata": {},
     "outputs": [],
     "prompt_number": 4
    },
    {
     "cell_type": "code",
     "collapsed": false,
     "input": [
      "# type(L1)  # ndarray\n",
      "pro_data = []\n",
      "\n",
      "for L in [L3,L5,L6,L8,L9]:\n",
      "    l = list(set(L))\n",
      "    l = np.array(l)\n",
      "    \n",
      "    for s in l:   \n",
      "        split = [1 if x == s else x for x in L]\n",
      "        split = [0 if x != 1 else x for x in split]\n",
      "        \n",
      "        split = np.array(split)\n",
      "        pro_data.append(split)"
     ],
     "language": "python",
     "metadata": {},
     "outputs": [],
     "prompt_number": 11
    },
    {
     "cell_type": "code",
     "collapsed": false,
     "input": [
      "len(pro_data)\n"
     ],
     "language": "python",
     "metadata": {},
     "outputs": [
      {
       "metadata": {},
       "output_type": "pyout",
       "prompt_number": 16,
       "text": [
        "1113"
       ]
      }
     ],
     "prompt_number": 16
    },
    {
     "cell_type": "code",
     "collapsed": false,
     "input": [
      "b = []\n",
      "for a in L7:\n",
      "    if type(a) == float:\n",
      "        a=[\"0\",\"0\"]\n",
      "    else:      \n",
      "        a = a.split(' ')\n",
      "        a=[a[0],a[1].replace('years','365')]\n",
      "        a=[a[0],a[1].replace('year','365')]\n",
      "        a=[a[0],a[1].replace('months','30')]\n",
      "        a=[a[0],a[1].replace('month','30')]\n",
      "        a=[a[0],a[1].replace('weeks','7')]\n",
      "        a=[a[0],a[1].replace('week','7')]\n",
      "        a=[a[0],a[1].replace('days','1')]\n",
      "        a=[a[0],a[1].replace('day','1')]\n",
      "\n",
      "    c= eval(a[0])*eval(a[1])\n",
      "    b.append(c)\n",
      "   \n",
      "pro_data.append(b) "
     ],
     "language": "python",
     "metadata": {},
     "outputs": [],
     "prompt_number": 17
    },
    {
     "cell_type": "code",
     "collapsed": false,
     "input": [
      "#----------time process-->>>-----------------------\n",
      "d1=list()\n",
      "d2=list()\n",
      "d3=list()\n",
      "d4=list()\n",
      "d5=list()\n",
      "for a in L2:\n",
      "    a=a.split(r'-')\n",
      "    b=a[2].split(' ')\n",
      "    c=b[1].split(':')\n",
      "    d1.append(int(a[0]))\n",
      "    d2.append(int(a[1]))\n",
      "    d3.append(int(b[0]))\n",
      "    d4.append(int(c[0]))\n",
      "    d5.append(int(c[1]))\n",
      "    \n",
      "for dx in (d1,d2,d3,d4,d5):\n",
      "    \n",
      "    pro_data.append(dx)\n",
      "#----------time process--<<<<-----------------------"
     ],
     "language": "python",
     "metadata": {},
     "outputs": [],
     "prompt_number": 18
    },
    {
     "cell_type": "code",
     "collapsed": false,
     "input": [
      "len(pro_data)\n",
      "#print pro_data[1118]\n",
      "#pro_data has 1119 features, each has 10000 rows"
     ],
     "language": "python",
     "metadata": {},
     "outputs": [
      {
       "metadata": {},
       "output_type": "pyout",
       "prompt_number": 40,
       "text": [
        "1119"
       ]
      }
     ],
     "prompt_number": 40
    },
    {
     "cell_type": "code",
     "collapsed": false,
     "input": [
      "vectorizer = TfidfVectorizer()    \n",
      "XL1 = ['0' if type(x) == float else x for x in L1]\n",
      "XL1 = vectorizer.fit_transform(XL1)\n",
      "XL1 = XL1.toarray()\n",
      "XL1"
     ],
     "language": "python",
     "metadata": {},
     "outputs": [
      {
       "metadata": {},
       "output_type": "pyout",
       "prompt_number": 46,
       "text": [
        "array([[ 0.,  0.,  0., ...,  0.,  0.,  0.],\n",
        "       [ 0.,  0.,  0., ...,  0.,  0.,  0.],\n",
        "       [ 0.,  0.,  0., ...,  0.,  0.,  0.],\n",
        "       ..., \n",
        "       [ 0.,  0.,  0., ...,  0.,  0.,  0.],\n",
        "       [ 0.,  0.,  0., ...,  0.,  0.,  0.],\n",
        "       [ 0.,  0.,  0., ...,  0.,  0.,  0.]])"
       ]
      }
     ],
     "prompt_number": 46
    },
    {
     "cell_type": "code",
     "collapsed": false,
     "input": [
      "\n",
      "pro_data = np.array(pro_data)\n",
      "pro_data = pro_data.transpose()\n",
      "pro_data=np.hstack((pro_data,XL1))\n",
      "pro_data = np.array(pro_data)\n",
      "\n",
      "x_train = pro_data[:,5:]\n",
      "y_train = pro_data[:,:5]\n",
      "mds =[10,20,30,40,50,60,70,90,120,160,200]\n",
      "scores=list()\n",
      "for md in mds:\n",
      "    dtc = DecisionTreeClassifier(max_depth=md)\n",
      "    score= cross_val_score(dtc,x_train,y_train,cv=10)\n",
      "    scores.append(score.mean())\n",
      "    print (\"max_depth %s finished\" % md)\n",
      "\n",
      "plt.plot(mds,scores,'b-o')\n",
      "plt.xlabel('max_depths')\n",
      "plt.ylabel('scores')\n",
      "plt.title('10000 samples used')\n",
      "plt.savefig('1.png')\n",
      "plt.show()\n",
      "#----------submition--->>>>>>--------------\n",
      "c_clf = DecisionTreeClassifier(max_depth=40)\n",
      "c_clf.fit(x_train,y_train)\n",
      "#use training data\n",
      "preds = c_clf.predict(pro_data[0:100,5:])\n",
      "pred_label1=list()\n",
      "pred_label2=list()\n",
      "pred_label3=list()\n",
      "pred_label4=list()\n",
      "pred_label5=list()\n",
      "\n",
      "for pred in preds:\n",
      "    if list(pred)==[1, 0, 0, 0, 0]:\n",
      "        #pred_label1.('Transfer')\n",
      "        pred_label1.append('0')\n",
      "        pred_label2.append('0')\n",
      "        pred_label3.append('0')\n",
      "        pred_label4.append('0')\n",
      "        pred_label5.append('1')\n",
      "    elif list(pred)==[0, 1, 0, 0, 0]:\n",
      "        #pred_label2.('Adoption')\n",
      "        pred_label1.append('1')\n",
      "        pred_label2.append('0')\n",
      "        pred_label3.append('0')\n",
      "        pred_label4.append('0')\n",
      "        pred_label5.append('0')\n",
      "    elif list(pred)==[0, 0, 1, 0, 0]:\n",
      "        #pred_label3.'Return_to_owner')\n",
      "        pred_label1.append('0')\n",
      "        pred_label2.append('0')\n",
      "        pred_label3.append('0')\n",
      "        pred_label4.append('1')\n",
      "        pred_label5.append('0')\n",
      "    elif list(pred)==[0, 0, 0, 1, 0]:\n",
      "        #pred_label4.('Died')\n",
      "        pred_label1.append('0')\n",
      "        pred_label2.append('1')\n",
      "        pred_label3.append('0')\n",
      "        pred_label4.append('0')\n",
      "        pred_label5.append('0')\n",
      "    else:\t    \n",
      "       #pred_label5.('Euthanasia')\n",
      "        pred_label1.append('0')\n",
      "        pred_label2.append('0')\n",
      "        pred_label3.append('1')\n",
      "        pred_label4.append('0')\n",
      "        pred_label5.append('0')\n",
      "\n",
      "submission = pd.DataFrame({\"Adoption\": pred_label1,\"Died\":pred_label2,\"Euthanasia\":pred_label3,\"Return_to_owner\":pred_label4,\"Transfer\":pred_label5})\n",
      "submission.insert(0, 'ID', range(1,101))\n",
      "submission.to_csv(\"submission.csv\", index=False)"
     ],
     "language": "python",
     "metadata": {},
     "outputs": []
    }
   ],
   "metadata": {}
  }
 ]
}