{
 "metadata": {
  "name": "",
  "signature": "sha256:cc2e5e5ca0dbf7e7b6c33790784b9e42cf9256cc2bd50c44bcf6baf27ff5316f"
 },
 "nbformat": 3,
 "nbformat_minor": 0,
 "worksheets": [
  {
   "cells": [
    {
     "cell_type": "code",
     "collapsed": false,
     "input": [
      "import pandas as pd\n",
      "# user table\n",
      "unames = ['user_id', 'gender', 'age', 'occupation', 'zip']\n",
      "users = pd.read_table('./ml-1m/users.dat',\n",
      "                     sep='::',header=None, names=unames,engine='python')\n",
      "# user-movie-rating table\n",
      "rnames = ['user_id', 'movie_id', 'rating', 'timestamp']\n",
      "ratings = pd.read_table('./ml-1m/ratings.dat',\n",
      "                        sep='::', header=None, names=rnames,engine='python')\n",
      "# movie table\n",
      "mnames = ['movie_id', 'title', 'genres']\n",
      "movies = pd.read_table('./ml-1m/movies.dat',\n",
      "                       sep='::', header=None, names=mnames,engine='python')\n",
      "\n",
      "# show how one of them looks\n",
      "ratings.head(1)"
     ],
     "language": "python",
     "metadata": {},
     "outputs": [
      {
       "html": [
        "<div style=\"max-height:1000px;max-width:1500px;overflow:auto;\">\n",
        "<table border=\"1\" class=\"dataframe\">\n",
        "  <thead>\n",
        "    <tr style=\"text-align: right;\">\n",
        "      <th></th>\n",
        "      <th>user_id</th>\n",
        "      <th>movie_id</th>\n",
        "      <th>rating</th>\n",
        "      <th>timestamp</th>\n",
        "    </tr>\n",
        "  </thead>\n",
        "  <tbody>\n",
        "    <tr>\n",
        "      <th>0</th>\n",
        "      <td> 1</td>\n",
        "      <td> 1193</td>\n",
        "      <td> 5</td>\n",
        "      <td> 978300760</td>\n",
        "    </tr>\n",
        "  </tbody>\n",
        "</table>\n",
        "</div>"
       ],
       "metadata": {},
       "output_type": "pyout",
       "prompt_number": 11,
       "text": [
        "   user_id  movie_id  rating  timestamp\n",
        "0        1      1193       5  978300760"
       ]
      }
     ],
     "prompt_number": 11
    },
    {
     "cell_type": "code",
     "collapsed": false,
     "input": [
      "import sys\n",
      "\n",
      "#To show some messages:\n",
      "import recsys.algorithm\n",
      "recsys.algorithm.VERBOSE = True\n",
      "\n",
      "from recsys.algorithm.factorize import SVD\n",
      "from recsys.datamodel.data import Data\n",
      "from recsys.evaluation.prediction import RMSE, MAE\n",
      "\n"
     ],
     "language": "python",
     "metadata": {},
     "outputs": [],
     "prompt_number": 1
    },
    {
     "cell_type": "code",
     "collapsed": false,
     "input": [
      "# Dataset\n",
      "PERCENT_TRAIN = 80\n",
      "data = Data()\n",
      "data.load('Octokey RCS/data/ratings.dat', sep='::', format={'col':0, 'row':1, 'value':2, 'ids':int})\n",
      "    # About format parameter:\n",
      "    #   'row': 1 -> Rows in matrix come from column 1 in ratings.dat file\n",
      "    #   'col': 0 -> Cols in matrix come from column 0 in ratings.dat file\n",
      "    #   'value': 2 -> Values (Mij) in matrix come from column 2 in ratings.dat file\n",
      "    #   'ids': int -> Ids (row and col ids) are integers (not strings)"
     ],
     "language": "python",
     "metadata": {},
     "outputs": [
      {
       "output_type": "stream",
       "stream": "stdout",
       "text": [
        "Loading Octokey RCS/data/ratings.dat\n",
        "."
       ]
      },
      {
       "output_type": "stream",
       "stream": "stdout",
       "text": [
        ".."
       ]
      },
      {
       "output_type": "stream",
       "stream": "stdout",
       "text": [
        ".."
       ]
      },
      {
       "output_type": "stream",
       "stream": "stdout",
       "text": [
        ".."
       ]
      },
      {
       "output_type": "stream",
       "stream": "stdout",
       "text": [
        ".."
       ]
      },
      {
       "output_type": "stream",
       "stream": "stdout",
       "text": [
        ".|\n"
       ]
      }
     ],
     "prompt_number": 2
    },
    {
     "cell_type": "code",
     "collapsed": false,
     "input": [
      "#Train & Test data\n",
      "train, test = data.split_train_test(percent=PERCENT_TRAIN)\n"
     ],
     "language": "python",
     "metadata": {},
     "outputs": [],
     "prompt_number": 3
    },
    {
     "cell_type": "code",
     "collapsed": false,
     "input": [
      "#Create SVD\n",
      "K=100\n",
      "svd = SVD()\n",
      "svd.set_data(train)\n",
      "svd.compute(k=K, min_values=5, pre_normalize=None, mean_center=False, post_normalize=True)"
     ],
     "language": "python",
     "metadata": {},
     "outputs": [
      {
       "output_type": "stream",
       "stream": "stdout",
       "text": [
        "Creating matrix (800167 tuples)\n",
        "Matrix density is: 3.596%\n"
       ]
      },
      {
       "output_type": "stream",
       "stream": "stdout",
       "text": [
        "Updating matrix: squish to at least 5 values\n",
        "Computing svd k=100, min_values=5, pre_normalize=None, mean_center=False, post_normalize=True\n"
       ]
      }
     ],
     "prompt_number": 4
    },
    {
     "cell_type": "code",
     "collapsed": false,
     "input": [
      "#Evaluation using prediction-based metrics\n",
      "rmse = RMSE()\n",
      "mae = MAE()\n",
      "for rating, item_id, user_id in test.get():\n",
      "    try:\n",
      "        pred_rating = svd.predict(item_id, user_id)\n",
      "        rmse.add(rating, pred_rating)\n",
      "        mae.add(rating, pred_rating)\n",
      "        \n",
      "    except KeyError:\n",
      "        continue\n",
      "\n",
      "print 'RMSE=%s' % rmse.compute()\n",
      "print 'MAE=%s' % mae.compute()"
     ],
     "language": "python",
     "metadata": {},
     "outputs": [
      {
       "output_type": "stream",
       "stream": "stdout",
       "text": [
        "RMSE=2.892558\n",
        "MAE=2.612528"
       ]
      },
      {
       "output_type": "stream",
       "stream": "stdout",
       "text": [
        "\n"
       ]
      }
     ],
     "prompt_number": 5
    },
    {
     "cell_type": "code",
     "collapsed": false,
     "input": [
      "ItemID1 = 1\n",
      "ItemID2 = 2355\n",
      "svd.similarity(ItemID1, ItemID2)"
     ],
     "language": "python",
     "metadata": {},
     "outputs": [
      {
       "metadata": {},
       "output_type": "pyout",
       "prompt_number": 6,
       "text": [
        "0.64766884826033"
       ]
      }
     ],
     "prompt_number": 6
    },
    {
     "cell_type": "code",
     "collapsed": false,
     "input": [
      "svd.similar(ItemID1)"
     ],
     "language": "python",
     "metadata": {},
     "outputs": [
      {
       "metadata": {},
       "output_type": "pyout",
       "prompt_number": 8,
       "text": [
        "[(1, 0.99999999999999933),\n",
        " (588, 0.68756527092516695),\n",
        " (2355, 0.64766884826033022),\n",
        " (3114, 0.64042738681574307),\n",
        " (2321, 0.62653069047090648),\n",
        " (364, 0.62134187955450593),\n",
        " (1923, 0.61887501306433423),\n",
        " (3255, 0.61672426053671647),\n",
        " (3253, 0.60568671292140408),\n",
        " (2294, 0.60338682187325976)]"
       ]
      }
     ],
     "prompt_number": 8
    },
    {
     "cell_type": "code",
     "collapsed": false,
     "input": [
      "similarItem = [movies.ix[movies.index[movies['movie_id']== x[0]]][['title']] for x in svd.similar(ItemID1)]"
     ],
     "language": "python",
     "metadata": {},
     "outputs": [],
     "prompt_number": 14
    },
    {
     "cell_type": "code",
     "collapsed": false,
     "input": [
      "similarItem"
     ],
     "language": "python",
     "metadata": {},
     "outputs": [
      {
       "metadata": {},
       "output_type": "pyout",
       "prompt_number": 15,
       "text": [
        "[              title\n",
        " 0  Toy Story (1995),               title\n",
        " 584  Aladdin (1992),                      title\n",
        " 2286  Bug's Life, A (1998),                    title\n",
        " 3045  Toy Story 2 (1999),                      title\n",
        " 2252  Pleasantville (1998),                      title\n",
        " 360  Lion King, The (1994),                                     title\n",
        " 1854  There's Something About Mary (1998),                               title\n",
        " 3186  League of Their Own, A (1992),                      title\n",
        " 3184  Wayne's World (1992),             title\n",
        " 2225  Antz (1998)]"
       ]
      }
     ],
     "prompt_number": 15
    },
    {
     "cell_type": "code",
     "collapsed": false,
     "input": [
      "Rec1 = svd.recommend(ItemID1)"
     ],
     "language": "python",
     "metadata": {},
     "outputs": [
      {
       "metadata": {},
       "output_type": "pyout",
       "prompt_number": 16,
       "text": [
        "[(1448, 8.9016799350214058),\n",
        " (678, 7.9319379085212631),\n",
        " (195, 7.9083927266053324),\n",
        " (1697, 7.8834168266171565),\n",
        " (5090, 7.7180423443017228),\n",
        " (1922, 7.3371820819681268),\n",
        " (5046, 6.9648407622800894),\n",
        " (5831, 6.8606950247527054),\n",
        " (1950, 6.787766116032957),\n",
        " (5615, 6.7215305954338715)]"
       ]
      }
     ],
     "prompt_number": 16
    },
    {
     "cell_type": "code",
     "collapsed": false,
     "input": [
      "RecItem = [ users.loc[users['user_id'] == x[0],'user_id'] for x in svd.recommend(ItemID1)]\n",
      "RecItem"
     ],
     "language": "python",
     "metadata": {},
     "outputs": [
      {
       "metadata": {},
       "output_type": "pyout",
       "prompt_number": 19,
       "text": [
        "[1447    1448\n",
        " Name: user_id, dtype: int64, 677    678\n",
        " Name: user_id, dtype: int64, 194    195\n",
        " Name: user_id, dtype: int64, 1696    1697\n",
        " Name: user_id, dtype: int64, 5089    5090\n",
        " Name: user_id, dtype: int64, 1921    1922\n",
        " Name: user_id, dtype: int64, 5045    5046\n",
        " Name: user_id, dtype: int64, 5830    5831\n",
        " Name: user_id, dtype: int64, 1949    1950\n",
        " Name: user_id, dtype: int64, 5614    5615\n",
        " Name: user_id, dtype: int64]"
       ]
      }
     ],
     "prompt_number": 19
    },
    {
     "cell_type": "code",
     "collapsed": false,
     "input": [],
     "language": "python",
     "metadata": {},
     "outputs": []
    }
   ],
   "metadata": {}
  }
 ]
}